{
 "cells": [
  {
   "cell_type": "markdown",
   "metadata": {},
   "source": [
    "# Treasure Hunt Game Notebook\n",
    "\n",
    "## Read and Review Your Starter Code\n",
    "The theme of this project is a popular treasure hunt game in which the player needs to find the treasure before the pirate does. While you will not be developing the entire game, you will write the part of the game that represents the intelligent agent, which is a pirate in this case. The pirate will try to find the optimal path to the treasure using deep Q-learning. \n",
    "\n",
    "You have been provided with two Python classes and this notebook to help you with this assignment. The first class, TreasureMaze.py, represents the environment, which includes a maze object defined as a matrix. The second class, GameExperience.py, stores the episodes – that is, all the states that come in between the initial state and the terminal state. This is later used by the agent for learning by experience, called \"exploration\". This notebook shows how to play a game. Your task is to complete the deep Q-learning implementation for which a skeleton implementation has been provided. The code blocks you will need to complete has #TODO as a header.\n",
    "\n",
    "First, read and review the next few code and instruction blocks to understand the code that you have been given."
   ]
  },
  {
   "cell_type": "code",
   "execution_count": 1,
   "metadata": {},
   "outputs": [
    {
     "name": "stderr",
     "output_type": "stream",
     "text": [
      "Using TensorFlow backend.\n"
     ]
    }
   ],
   "source": [
    "from __future__ import print_function\n",
    "import os, sys, time, datetime, json, random\n",
    "import numpy as np\n",
    "from keras.models import Sequential\n",
    "from keras.layers import Dense, Activation\n",
    "from keras.optimizers import SGD , Adam, RMSprop\n",
    "from keras.layers import PReLU\n",
    "import matplotlib.pyplot as plt\n",
    "from TreasureMaze import TreasureMaze\n",
    "from GameExperience import GameExperience\n",
    "%matplotlib inline"
   ]
  },
  {
   "cell_type": "markdown",
   "metadata": {},
   "source": [
    "The following code block contains an 8x8 matrix that will be used as a maze object:"
   ]
  },
  {
   "cell_type": "code",
   "execution_count": 2,
   "metadata": {},
   "outputs": [],
   "source": [
    "maze = np.array([\n",
    "    [ 1.,  0.,  1.,  1.,  1.,  1.,  1.,  1.],\n",
    "    [ 1.,  0.,  1.,  1.,  1.,  0.,  1.,  1.],\n",
    "    [ 1.,  1.,  1.,  1.,  0.,  1.,  0.,  1.],\n",
    "    [ 1.,  1.,  1.,  0.,  1.,  1.,  1.,  1.],\n",
    "    [ 1.,  1.,  0.,  1.,  1.,  1.,  1.,  1.],\n",
    "    [ 1.,  1.,  1.,  0.,  1.,  0.,  0.,  0.],\n",
    "    [ 1.,  1.,  1.,  0.,  1.,  1.,  1.,  1.],\n",
    "    [ 1.,  1.,  1.,  1.,  0.,  1.,  1.,  1.]\n",
    "])"
   ]
  },
  {
   "cell_type": "markdown",
   "metadata": {},
   "source": [
    "This helper function allows a visual representation of the maze object:"
   ]
  },
  {
   "cell_type": "code",
   "execution_count": 3,
   "metadata": {},
   "outputs": [],
   "source": [
    "def show(qmaze):\n",
    "    plt.grid('on')\n",
    "    nrows, ncols = qmaze.maze.shape\n",
    "    ax = plt.gca()\n",
    "    ax.set_xticks(np.arange(0.5, nrows, 1))\n",
    "    ax.set_yticks(np.arange(0.5, ncols, 1))\n",
    "    ax.set_xticklabels([])\n",
    "    ax.set_yticklabels([])\n",
    "    canvas = np.copy(qmaze.maze)\n",
    "    for row,col in qmaze.visited:\n",
    "        canvas[row,col] = 0.6\n",
    "    pirate_row, pirate_col, _ = qmaze.state\n",
    "    canvas[pirate_row, pirate_col] = 0.3   # pirate cell\n",
    "    canvas[nrows-1, ncols-1] = 0.9 # treasure cell\n",
    "    img = plt.imshow(canvas, interpolation='none', cmap='gray')\n",
    "    return img"
   ]
  },
  {
   "cell_type": "markdown",
   "metadata": {},
   "source": [
    "The pirate agent can move in four directions: left, right, up, and down. \n",
    "\n",
    "While the agent primarily learns by experience through exploitation, often, the agent can choose to explore the environment to find previously undiscovered paths. This is called \"exploration\" and is defined by epsilon. This value is typically a lower value such as 0.1, which means for every ten attempts, the agent will attempt to learn by experience nine times and will randomly explore a new path one time. You are encouraged to try various values for the exploration factor and see how the algorithm performs."
   ]
  },
  {
   "cell_type": "code",
   "execution_count": 4,
   "metadata": {},
   "outputs": [],
   "source": [
    "LEFT = 0\n",
    "UP = 1\n",
    "RIGHT = 2\n",
    "DOWN = 3\n",
    "\n",
    "\n",
    "# Exploration factor\n",
    "epsilon = 0.1\n",
    "\n",
    "# Actions dictionary\n",
    "actions_dict = {\n",
    "    LEFT: 'left',\n",
    "    UP: 'up',\n",
    "    RIGHT: 'right',\n",
    "    DOWN: 'down',\n",
    "}\n",
    "\n",
    "num_actions = len(actions_dict)\n"
   ]
  },
  {
   "cell_type": "markdown",
   "metadata": {},
   "source": [
    "The sample code block and output below show creating a maze object and performing one action (DOWN), which returns the reward. The resulting updated environment is visualized."
   ]
  },
  {
   "cell_type": "code",
   "execution_count": 5,
   "metadata": {},
   "outputs": [
    {
     "name": "stdout",
     "output_type": "stream",
     "text": [
      "reward= -0.04\n"
     ]
    },
    {
     "data": {
      "text/plain": [
       "<matplotlib.image.AxesImage at 0x1ceef7c1b08>"
      ]
     },
     "execution_count": 5,
     "metadata": {},
     "output_type": "execute_result"
    },
    {
     "data": {
      "image/png": "[encoded data removed]",
      "text/plain": [
       "<Figure size 432x288 with 1 Axes>"
      ]
     },
     "metadata": {
      "needs_background": "light"
     },
     "output_type": "display_data"
    }
   ],
   "source": [
    "qmaze = TreasureMaze(maze)\n",
    "canvas, reward, game_over = qmaze.act(DOWN)\n",
    "print(\"reward=\", reward)\n",
    "show(qmaze)"
   ]
  },
  {
   "cell_type": "markdown",
   "metadata": {},
   "source": [
    "This function simulates a full game based on the provided trained model. The other parameters include the TreasureMaze object and the starting position of the pirate."
   ]
  },
  {
   "cell_type": "code",
   "execution_count": 6,
   "metadata": {},
   "outputs": [],
   "source": [
    "def play_game(model, qmaze, pirate_cell):\n",
    "    qmaze.reset(pirate_cell)\n",
    "    envstate = qmaze.observe()\n",
    "    while True:\n",
    "        prev_envstate = envstate\n",
    "        # get next action\n",
    "        q = model.predict(prev_envstate)\n",
    "        action = np.argmax(q[0])\n",
    "\n",
    "        # apply action, get rewards and new state\n",
    "        envstate, reward, game_status = qmaze.act(action)\n",
    "        if game_status == 'win':\n",
    "            return True\n",
    "        elif game_status == 'lose':\n",
    "            return False"
   ]
  },
  {
   "cell_type": "markdown",
   "metadata": {},
   "source": [
    "This function helps you to determine whether the pirate can win any game at all. If your maze is not well designed, the pirate may not win any game at all. In this case, your training would not yield any result. The provided maze in this notebook ensures that there is a path to win and you can run this method to check."
   ]
  },
  {
   "cell_type": "code",
   "execution_count": 7,
   "metadata": {},
   "outputs": [],
   "source": [
    "def completion_check(model, qmaze):\n",
    "    for cell in qmaze.free_cells:\n",
    "        if not qmaze.valid_actions(cell):  # Ensure valid actions are returned\n",
    "            return False\n",
    "        if not play_game(model, qmaze, cell):  # Ensure the play_game function is accurate\n",
    "            return False\n",
    "    return True"
   ]
  },
  {
   "cell_type": "markdown",
   "metadata": {},
   "source": [
    "The code you have been given in this block will build the neural network model. Review the code and note the number of layers, as well as the activation, optimizer, and loss functions that are used to train the model."
   ]
  },
  {
   "cell_type": "code",
   "execution_count": 8,
   "metadata": {},
   "outputs": [],
   "source": [
    "def build_model(maze):\n",
    "    model = Sequential()\n",
    "    model.add(Dense(maze.size, input_shape=(maze.size,)))\n",
    "    model.add(PReLU())\n",
    "    model.add(Dense(maze.size))\n",
    "    model.add(PReLU())\n",
    "    model.add(Dense(num_actions))\n",
    "    model.compile(optimizer='adam', loss='mse')\n",
    "    return model"
   ]
  },
  {
   "cell_type": "markdown",
   "metadata": {},
   "source": [
    "# #TODO: Complete the Q-Training Algorithm Code Block\n",
    "\n",
    "This is your deep Q-learning implementation. The goal of your deep Q-learning implementation is to find the best possible navigation sequence that results in reaching the treasure cell while maximizing the reward. In your implementation, you need to determine the optimal number of epochs to achieve a 100% win rate.\n",
    "\n",
    "You will need to complete the section starting with #pseudocode. The pseudocode has been included for you."
   ]
  },
  {
   "cell_type": "code",
   "execution_count": 9,
   "metadata": {},
   "outputs": [],
   "source": [
    "def qtrain(model, maze, **opt):\n",
    "    global epsilon\n",
    "    initial_epsilon = 0.1\n",
    "    final_epsilon = 0.0001\n",
    "    epsilon = initial_epsilon\n",
    "    epsilon_decay = (initial_epsilon - final_epsilon) / opt.get('n_epoch', 2500)\n",
    "    \n",
    "    n_epoch = opt.get('n_epoch', 2500)\n",
    "    max_memory = opt.get('max_memory', 1500)\n",
    "    data_size = opt.get('data_size', 50)\n",
    "   \n",
    "    start_time = datetime.datetime.now()\n",
    "\n",
    "    qmaze = TreasureMaze(maze)\n",
    "    experience = GameExperience(model, max_memory=max_memory)\n",
    "    \n",
    "    win_history = []\n",
    "    hsize = qmaze.maze.size // 2\n",
    "    win_rate = 0.0\n",
    "\n",
    "    num_actions = model.output_shape[-1]\n",
    "\n",
    "    for epoch in range(n_epoch):\n",
    "        agent_cell = random.choice(qmaze.free_cells)\n",
    "        \n",
    "        qmaze.reset(agent_cell)\n",
    "        \n",
    "        envstate = qmaze.observe()\n",
    "        \n",
    "        n_episodes = 0\n",
    "        total_loss = 0.0\n",
    "        epoch_win = False\n",
    "\n",
    "        while True:\n",
    "            prev_envstate = envstate\n",
    "            \n",
    "            valid_actions = qmaze.valid_actions()\n",
    "\n",
    "\n",
    "\n",
    "            if np.random.rand() < epsilon:\n",
    "                action = random.choice([LEFT, UP, RIGHT, DOWN])\n",
    "            else:\n",
    "                q = model.predict(prev_envstate)\n",
    "                action = np.argmax(q[0])\n",
    "            \n",
    "            envstate, reward, game_status = qmaze.act(action)\n",
    "            \n",
    "            episode = [prev_envstate, action, reward, envstate, game_status]\n",
    "            \n",
    "            experience.remember(episode)\n",
    "\n",
    "            inputs, targets = experience.get_data(data_size=data_size)\n",
    "            \n",
    "            if inputs is not None:\n",
    "                model.fit(inputs, targets, epochs=1, verbose=0)\n",
    "                total_loss += model.evaluate(inputs, targets, verbose=0)\n",
    "            \n",
    "            n_episodes += 1\n",
    "           \n",
    "            # Check if game is over\n",
    "            if game_status == 'win':\n",
    "                win_history.append(1)  # Append win to history\n",
    "                win_rate = sum(win_history[-hsize:]) / hsize  # Calculate win rate\n",
    "                break\n",
    "            elif game_status == 'lose':\n",
    "                win_history.append(0)  # Append loss to history\n",
    "                win_rate = sum(win_history[-hsize:]) / hsize  # Calculate win rate\n",
    "                break\n",
    "\n",
    "\n",
    "        dt = datetime.datetime.now() - start_time\n",
    "        t = format_time(dt.total_seconds())\n",
    "        \n",
    "        template = \"Epoch: {:03d}/{:d} | Avg Loss: {:.4f} | Episodes: {:d} | Win count: {:d} | Win rate: {:.3f} | time: {}\"\n",
    "        print(template.format(epoch, n_epoch-1, total_loss, n_episodes, sum(win_history), win_rate, t))\n",
    "       # if win_rate > 0.9:\n",
    "        #    epsilon = final_epsilon\n",
    "        if epsilon > final_epsilon:\n",
    "            epsilon -= epsilon_decay\n",
    "       \n",
    "        if sum(win_history[-hsize:]) == hsize and completion_check(model, qmaze):\n",
    "            print(\"Reached 100%% win rate at epoch: %d\" % (n_epoch,))\n",
    "            break\n",
    "    \n",
    "    dt = datetime.datetime.now() - start_time\n",
    "    seconds = dt.total_seconds()\n",
    "    t = format_time(seconds)\n",
    "\n",
    "    print(\"n_epoch: %d, max_mem: %d, data: %d, time: %s\" % (epoch, max_memory, data_size, t))\n",
    "    return seconds\n",
    "\n",
    "def format_time(seconds):\n",
    "    if seconds < 400:\n",
    "        s = float(seconds)\n",
    "        return \"%.1f seconds\" % (s,)\n",
    "    elif seconds < 4000:\n",
    "        m = seconds / 60.0\n",
    "        return \"%.2f minutes\" % (m,)\n",
    "    else:\n",
    "        h = seconds / 3600.0\n",
    "        return \"%.2f hours\" % (h,)\n"
   ]
  },
  {
   "cell_type": "markdown",
   "metadata": {},
   "source": [
    "## Test Your Model\n",
    "\n",
    "Now we will start testing the deep Q-learning implementation. To begin, select **Cell**, then **Run All** from the menu bar. This will run your notebook. As it runs, you should see output begin to appear beneath the next few cells. The code below creates an instance of TreasureMaze."
   ]
  },
  {
   "cell_type": "code",
   "execution_count": 10,
   "metadata": {},
   "outputs": [
    {
     "data": {
      "text/plain": [
       "<matplotlib.image.AxesImage at 0x1ceef884f08>"
      ]
     },
     "execution_count": 10,
     "metadata": {},
     "output_type": "execute_result"
    },
    {
     "data": {
      "image/png": "[encoded data removed]",
      "text/plain": [
       "<Figure size 432x288 with 1 Axes>"
      ]
     },
     "metadata": {
      "needs_background": "light"
     },
     "output_type": "display_data"
    }
   ],
   "source": [
    "qmaze = TreasureMaze(maze)\n",
    "show(qmaze)"
   ]
  },
  {
   "cell_type": "markdown",
   "metadata": {},
   "source": [
    "In the next code block, you will build your model and train it using deep Q-learning. Note: This step takes several minutes to fully run."
   ]
  },
  {
   "cell_type": "code",
   "execution_count": null,
   "metadata": {
    "scrolled": false
   },
   "outputs": [
    {
     "name": "stdout",
     "output_type": "stream",
     "text": [
      "Epoch: 000/2499 | Avg Loss: 0.4266 | Episodes: 140 | Win count: 0 | Win rate: 0.000 | time: 11.5 seconds\n",
      "Epoch: 001/2499 | Avg Loss: 0.1451 | Episodes: 136 | Win count: 0 | Win rate: 0.000 | time: 22.1 seconds\n",
      "Epoch: 002/2499 | Avg Loss: 0.1245 | Episodes: 136 | Win count: 0 | Win rate: 0.000 | time: 31.8 seconds\n",
      "Epoch: 003/2499 | Avg Loss: 0.1294 | Episodes: 141 | Win count: 0 | Win rate: 0.000 | time: 42.6 seconds\n",
      "Epoch: 004/2499 | Avg Loss: 0.1314 | Episodes: 134 | Win count: 0 | Win rate: 0.000 | time: 52.4 seconds\n",
      "Epoch: 005/2499 | Avg Loss: 0.1319 | Episodes: 137 | Win count: 0 | Win rate: 0.000 | time: 62.4 seconds\n",
      "Epoch: 006/2499 | Avg Loss: 0.1353 | Episodes: 144 | Win count: 0 | Win rate: 0.000 | time: 73.5 seconds\n",
      "Epoch: 007/2499 | Avg Loss: 0.1243 | Episodes: 132 | Win count: 0 | Win rate: 0.000 | time: 84.0 seconds\n",
      "Epoch: 008/2499 | Avg Loss: 0.1341 | Episodes: 150 | Win count: 0 | Win rate: 0.000 | time: 96.4 seconds\n",
      "Epoch: 009/2499 | Avg Loss: 0.1749 | Episodes: 142 | Win count: 0 | Win rate: 0.000 | time: 108.4 seconds\n",
      "Epoch: 010/2499 | Avg Loss: 0.0014 | Episodes: 2 | Win count: 1 | Win rate: 0.031 | time: 108.6 seconds\n",
      "Epoch: 011/2499 | Avg Loss: 0.3191 | Episodes: 144 | Win count: 1 | Win rate: 0.031 | time: 120.0 seconds\n",
      "Epoch: 012/2499 | Avg Loss: 0.3275 | Episodes: 144 | Win count: 1 | Win rate: 0.031 | time: 130.2 seconds\n",
      "Epoch: 013/2499 | Avg Loss: 0.2940 | Episodes: 142 | Win count: 1 | Win rate: 0.031 | time: 140.4 seconds\n",
      "Epoch: 014/2499 | Avg Loss: 0.3051 | Episodes: 155 | Win count: 1 | Win rate: 0.031 | time: 152.3 seconds\n",
      "Epoch: 015/2499 | Avg Loss: 0.2229 | Episodes: 148 | Win count: 1 | Win rate: 0.031 | time: 164.8 seconds\n",
      "Epoch: 016/2499 | Avg Loss: 0.1772 | Episodes: 135 | Win count: 1 | Win rate: 0.031 | time: 175.3 seconds\n",
      "Epoch: 017/2499 | Avg Loss: 0.1965 | Episodes: 155 | Win count: 1 | Win rate: 0.031 | time: 186.3 seconds\n",
      "Epoch: 018/2499 | Avg Loss: 0.2037 | Episodes: 152 | Win count: 1 | Win rate: 0.031 | time: 197.5 seconds\n",
      "Epoch: 019/2499 | Avg Loss: 0.1810 | Episodes: 146 | Win count: 1 | Win rate: 0.031 | time: 209.1 seconds\n",
      "Epoch: 020/2499 | Avg Loss: 0.1969 | Episodes: 145 | Win count: 1 | Win rate: 0.031 | time: 220.1 seconds\n",
      "Epoch: 021/2499 | Avg Loss: 0.1916 | Episodes: 144 | Win count: 1 | Win rate: 0.031 | time: 231.4 seconds\n",
      "Epoch: 022/2499 | Avg Loss: 0.1962 | Episodes: 159 | Win count: 1 | Win rate: 0.031 | time: 243.0 seconds\n",
      "Epoch: 023/2499 | Avg Loss: 0.1929 | Episodes: 143 | Win count: 1 | Win rate: 0.031 | time: 253.8 seconds\n",
      "Epoch: 024/2499 | Avg Loss: 0.1823 | Episodes: 145 | Win count: 1 | Win rate: 0.031 | time: 266.9 seconds\n",
      "Epoch: 025/2499 | Avg Loss: 0.2132 | Episodes: 145 | Win count: 1 | Win rate: 0.031 | time: 277.8 seconds\n",
      "Epoch: 026/2499 | Avg Loss: 0.0073 | Episodes: 7 | Win count: 2 | Win rate: 0.062 | time: 278.2 seconds\n",
      "Epoch: 027/2499 | Avg Loss: 0.0118 | Episodes: 1 | Win count: 3 | Win rate: 0.094 | time: 278.3 seconds\n",
      "Epoch: 028/2499 | Avg Loss: 0.3029 | Episodes: 143 | Win count: 3 | Win rate: 0.094 | time: 289.7 seconds\n",
      "Epoch: 029/2499 | Avg Loss: 0.2976 | Episodes: 146 | Win count: 3 | Win rate: 0.094 | time: 301.6 seconds\n",
      "Epoch: 030/2499 | Avg Loss: 0.3359 | Episodes: 148 | Win count: 3 | Win rate: 0.094 | time: 314.2 seconds\n",
      "Epoch: 031/2499 | Avg Loss: 0.2422 | Episodes: 160 | Win count: 3 | Win rate: 0.094 | time: 326.9 seconds\n",
      "Epoch: 032/2499 | Avg Loss: 0.2142 | Episodes: 149 | Win count: 3 | Win rate: 0.094 | time: 338.2 seconds\n",
      "Epoch: 033/2499 | Avg Loss: 0.1958 | Episodes: 142 | Win count: 3 | Win rate: 0.094 | time: 349.9 seconds\n",
      "Epoch: 034/2499 | Avg Loss: 0.1825 | Episodes: 144 | Win count: 3 | Win rate: 0.094 | time: 361.1 seconds\n",
      "Epoch: 035/2499 | Avg Loss: 0.1509 | Episodes: 143 | Win count: 3 | Win rate: 0.094 | time: 372.6 seconds\n",
      "Epoch: 036/2499 | Avg Loss: 0.1545 | Episodes: 148 | Win count: 3 | Win rate: 0.094 | time: 385.1 seconds\n",
      "Epoch: 037/2499 | Avg Loss: 0.1558 | Episodes: 143 | Win count: 3 | Win rate: 0.094 | time: 396.2 seconds\n",
      "Epoch: 038/2499 | Avg Loss: 0.1377 | Episodes: 134 | Win count: 3 | Win rate: 0.094 | time: 6.78 minutes\n",
      "Epoch: 039/2499 | Avg Loss: 0.1337 | Episodes: 146 | Win count: 3 | Win rate: 0.094 | time: 6.96 minutes\n",
      "Epoch: 040/2499 | Avg Loss: 0.1105 | Episodes: 135 | Win count: 3 | Win rate: 0.094 | time: 7.16 minutes\n",
      "Epoch: 041/2499 | Avg Loss: 0.1105 | Episodes: 144 | Win count: 3 | Win rate: 0.094 | time: 7.37 minutes\n",
      "Epoch: 042/2499 | Avg Loss: 0.1376 | Episodes: 150 | Win count: 3 | Win rate: 0.062 | time: 7.56 minutes\n",
      "Epoch: 043/2499 | Avg Loss: 0.1471 | Episodes: 142 | Win count: 3 | Win rate: 0.062 | time: 7.74 minutes\n",
      "Epoch: 044/2499 | Avg Loss: 0.1455 | Episodes: 139 | Win count: 3 | Win rate: 0.062 | time: 7.92 minutes\n",
      "Epoch: 045/2499 | Avg Loss: 0.1286 | Episodes: 140 | Win count: 3 | Win rate: 0.062 | time: 8.11 minutes\n",
      "Epoch: 046/2499 | Avg Loss: 0.0981 | Episodes: 133 | Win count: 3 | Win rate: 0.062 | time: 8.29 minutes\n",
      "Epoch: 047/2499 | Avg Loss: 0.0775 | Episodes: 134 | Win count: 3 | Win rate: 0.062 | time: 8.47 minutes\n",
      "Epoch: 048/2499 | Avg Loss: 0.0328 | Episodes: 59 | Win count: 4 | Win rate: 0.094 | time: 8.54 minutes\n",
      "Epoch: 049/2499 | Avg Loss: 0.1524 | Episodes: 142 | Win count: 4 | Win rate: 0.094 | time: 8.73 minutes\n",
      "Epoch: 050/2499 | Avg Loss: 0.0413 | Episodes: 25 | Win count: 5 | Win rate: 0.125 | time: 8.77 minutes\n",
      "Epoch: 051/2499 | Avg Loss: 0.2664 | Episodes: 140 | Win count: 5 | Win rate: 0.125 | time: 8.97 minutes\n",
      "Epoch: 052/2499 | Avg Loss: 0.3457 | Episodes: 121 | Win count: 6 | Win rate: 0.156 | time: 9.14 minutes\n",
      "Epoch: 053/2499 | Avg Loss: 0.0011 | Episodes: 1 | Win count: 7 | Win rate: 0.188 | time: 9.14 minutes\n",
      "Epoch: 054/2499 | Avg Loss: 0.4368 | Episodes: 140 | Win count: 7 | Win rate: 0.188 | time: 9.38 minutes\n",
      "Epoch: 055/2499 | Avg Loss: 0.3868 | Episodes: 139 | Win count: 7 | Win rate: 0.188 | time: 9.77 minutes\n",
      "Epoch: 056/2499 | Avg Loss: 0.0014 | Episodes: 1 | Win count: 8 | Win rate: 0.219 | time: 9.77 minutes\n",
      "Epoch: 057/2499 | Avg Loss: 0.2912 | Episodes: 139 | Win count: 8 | Win rate: 0.219 | time: 10.13 minutes\n",
      "Epoch: 058/2499 | Avg Loss: 0.2382 | Episodes: 139 | Win count: 8 | Win rate: 0.188 | time: 10.42 minutes\n",
      "Epoch: 059/2499 | Avg Loss: 0.2424 | Episodes: 153 | Win count: 8 | Win rate: 0.156 | time: 10.63 minutes\n",
      "Epoch: 060/2499 | Avg Loss: 0.1805 | Episodes: 144 | Win count: 8 | Win rate: 0.156 | time: 10.84 minutes\n",
      "Epoch: 061/2499 | Avg Loss: 0.1580 | Episodes: 142 | Win count: 8 | Win rate: 0.156 | time: 11.03 minutes\n",
      "Epoch: 062/2499 | Avg Loss: 0.1314 | Episodes: 130 | Win count: 8 | Win rate: 0.156 | time: 11.22 minutes\n",
      "Epoch: 063/2499 | Avg Loss: 0.1195 | Episodes: 147 | Win count: 8 | Win rate: 0.156 | time: 11.42 minutes\n",
      "Epoch: 064/2499 | Avg Loss: 0.1060 | Episodes: 144 | Win count: 8 | Win rate: 0.156 | time: 11.61 minutes\n",
      "Epoch: 065/2499 | Avg Loss: 0.0434 | Episodes: 61 | Win count: 9 | Win rate: 0.188 | time: 11.69 minutes\n",
      "Epoch: 066/2499 | Avg Loss: 0.1542 | Episodes: 145 | Win count: 9 | Win rate: 0.188 | time: 11.87 minutes\n",
      "Epoch: 067/2499 | Avg Loss: 0.1586 | Episodes: 141 | Win count: 9 | Win rate: 0.188 | time: 12.05 minutes\n",
      "Epoch: 068/2499 | Avg Loss: 0.1591 | Episodes: 144 | Win count: 9 | Win rate: 0.188 | time: 12.22 minutes\n",
      "Epoch: 069/2499 | Avg Loss: 0.1287 | Episodes: 147 | Win count: 9 | Win rate: 0.188 | time: 12.41 minutes\n",
      "Epoch: 070/2499 | Avg Loss: 0.1066 | Episodes: 139 | Win count: 9 | Win rate: 0.188 | time: 12.60 minutes\n",
      "Epoch: 071/2499 | Avg Loss: 0.1119 | Episodes: 144 | Win count: 9 | Win rate: 0.188 | time: 12.79 minutes\n",
      "Epoch: 072/2499 | Avg Loss: 0.1065 | Episodes: 138 | Win count: 9 | Win rate: 0.188 | time: 12.97 minutes\n",
      "Epoch: 073/2499 | Avg Loss: 0.1038 | Episodes: 136 | Win count: 9 | Win rate: 0.188 | time: 13.14 minutes\n",
      "Epoch: 074/2499 | Avg Loss: 0.1066 | Episodes: 141 | Win count: 9 | Win rate: 0.188 | time: 13.32 minutes\n",
      "Epoch: 075/2499 | Avg Loss: 0.0007 | Episodes: 1 | Win count: 10 | Win rate: 0.219 | time: 13.32 minutes\n",
      "Epoch: 076/2499 | Avg Loss: 0.2208 | Episodes: 140 | Win count: 10 | Win rate: 0.219 | time: 13.50 minutes\n",
      "Epoch: 077/2499 | Avg Loss: 0.0019 | Episodes: 2 | Win count: 11 | Win rate: 0.250 | time: 13.50 minutes\n"
     ]
    },
    {
     "name": "stdout",
     "output_type": "stream",
     "text": [
      "Epoch: 078/2499 | Avg Loss: 0.3304 | Episodes: 140 | Win count: 11 | Win rate: 0.250 | time: 13.68 minutes\n",
      "Epoch: 079/2499 | Avg Loss: 0.0008 | Episodes: 1 | Win count: 12 | Win rate: 0.281 | time: 13.68 minutes\n",
      "Epoch: 080/2499 | Avg Loss: 0.4421 | Episodes: 149 | Win count: 12 | Win rate: 0.250 | time: 13.87 minutes\n",
      "Epoch: 081/2499 | Avg Loss: 0.3637 | Episodes: 142 | Win count: 12 | Win rate: 0.250 | time: 14.06 minutes\n",
      "Epoch: 082/2499 | Avg Loss: 0.0013 | Episodes: 1 | Win count: 13 | Win rate: 0.250 | time: 14.06 minutes\n",
      "Epoch: 083/2499 | Avg Loss: 0.2465 | Episodes: 138 | Win count: 13 | Win rate: 0.250 | time: 14.23 minutes\n",
      "Epoch: 084/2499 | Avg Loss: 0.1616 | Episodes: 145 | Win count: 13 | Win rate: 0.219 | time: 14.44 minutes\n",
      "Epoch: 085/2499 | Avg Loss: 0.1335 | Episodes: 141 | Win count: 13 | Win rate: 0.188 | time: 14.64 minutes\n",
      "Epoch: 086/2499 | Avg Loss: 0.1264 | Episodes: 139 | Win count: 13 | Win rate: 0.188 | time: 14.88 minutes\n",
      "Epoch: 087/2499 | Avg Loss: 0.1411 | Episodes: 146 | Win count: 13 | Win rate: 0.188 | time: 15.09 minutes\n",
      "Epoch: 088/2499 | Avg Loss: 0.1103 | Episodes: 136 | Win count: 13 | Win rate: 0.156 | time: 15.28 minutes\n",
      "Epoch: 089/2499 | Avg Loss: 0.1257 | Episodes: 155 | Win count: 13 | Win rate: 0.156 | time: 15.50 minutes\n",
      "Epoch: 090/2499 | Avg Loss: 0.0944 | Episodes: 130 | Win count: 13 | Win rate: 0.156 | time: 15.67 minutes\n",
      "Epoch: 091/2499 | Avg Loss: 0.0035 | Episodes: 7 | Win count: 14 | Win rate: 0.188 | time: 15.68 minutes\n",
      "Epoch: 092/2499 | Avg Loss: 0.0006 | Episodes: 1 | Win count: 15 | Win rate: 0.219 | time: 15.68 minutes\n",
      "Epoch: 093/2499 | Avg Loss: 0.1329 | Episodes: 140 | Win count: 15 | Win rate: 0.219 | time: 15.87 minutes\n",
      "Epoch: 094/2499 | Avg Loss: 0.1953 | Episodes: 140 | Win count: 15 | Win rate: 0.219 | time: 16.06 minutes\n",
      "Epoch: 095/2499 | Avg Loss: 0.0006 | Episodes: 1 | Win count: 16 | Win rate: 0.250 | time: 16.06 minutes\n",
      "Epoch: 096/2499 | Avg Loss: 0.1171 | Episodes: 142 | Win count: 16 | Win rate: 0.250 | time: 16.25 minutes\n",
      "Epoch: 097/2499 | Avg Loss: 0.1230 | Episodes: 139 | Win count: 16 | Win rate: 0.219 | time: 16.43 minutes\n",
      "Epoch: 098/2499 | Avg Loss: 0.1049 | Episodes: 138 | Win count: 16 | Win rate: 0.219 | time: 16.60 minutes\n",
      "Epoch: 099/2499 | Avg Loss: 0.0119 | Episodes: 20 | Win count: 17 | Win rate: 0.250 | time: 16.63 minutes\n",
      "Epoch: 100/2499 | Avg Loss: 0.1063 | Episodes: 135 | Win count: 17 | Win rate: 0.250 | time: 16.81 minutes\n",
      "Epoch: 101/2499 | Avg Loss: 0.0990 | Episodes: 141 | Win count: 17 | Win rate: 0.250 | time: 17.00 minutes\n",
      "Epoch: 102/2499 | Avg Loss: 0.1326 | Episodes: 144 | Win count: 17 | Win rate: 0.250 | time: 17.19 minutes\n",
      "Epoch: 103/2499 | Avg Loss: 0.1233 | Episodes: 139 | Win count: 17 | Win rate: 0.250 | time: 17.37 minutes\n",
      "Epoch: 104/2499 | Avg Loss: 0.1100 | Episodes: 135 | Win count: 17 | Win rate: 0.250 | time: 17.54 minutes\n",
      "Epoch: 105/2499 | Avg Loss: 0.1128 | Episodes: 144 | Win count: 17 | Win rate: 0.250 | time: 17.72 minutes\n",
      "Epoch: 106/2499 | Avg Loss: 0.0672 | Episodes: 132 | Win count: 17 | Win rate: 0.250 | time: 17.88 minutes\n",
      "Epoch: 107/2499 | Avg Loss: 0.0601 | Episodes: 124 | Win count: 18 | Win rate: 0.250 | time: 18.02 minutes\n",
      "Epoch: 108/2499 | Avg Loss: 0.0008 | Episodes: 2 | Win count: 19 | Win rate: 0.281 | time: 18.03 minutes\n",
      "Epoch: 109/2499 | Avg Loss: 0.2288 | Episodes: 139 | Win count: 19 | Win rate: 0.250 | time: 18.20 minutes\n",
      "Epoch: 110/2499 | Avg Loss: 0.1852 | Episodes: 144 | Win count: 19 | Win rate: 0.250 | time: 18.39 minutes\n",
      "Epoch: 111/2499 | Avg Loss: 0.1356 | Episodes: 152 | Win count: 19 | Win rate: 0.219 | time: 18.60 minutes\n",
      "Epoch: 112/2499 | Avg Loss: 0.0723 | Episodes: 60 | Win count: 20 | Win rate: 0.250 | time: 18.69 minutes\n",
      "Epoch: 113/2499 | Avg Loss: 0.1560 | Episodes: 139 | Win count: 20 | Win rate: 0.250 | time: 18.90 minutes\n",
      "Epoch: 114/2499 | Avg Loss: 0.1546 | Episodes: 140 | Win count: 20 | Win rate: 0.219 | time: 19.08 minutes\n",
      "Epoch: 115/2499 | Avg Loss: 0.1461 | Episodes: 147 | Win count: 20 | Win rate: 0.219 | time: 19.31 minutes\n",
      "Epoch: 116/2499 | Avg Loss: 0.1311 | Episodes: 154 | Win count: 20 | Win rate: 0.219 | time: 19.53 minutes\n",
      "Epoch: 117/2499 | Avg Loss: 0.1311 | Episodes: 151 | Win count: 20 | Win rate: 0.219 | time: 19.77 minutes\n",
      "Epoch: 118/2499 | Avg Loss: 0.1649 | Episodes: 149 | Win count: 20 | Win rate: 0.219 | time: 20.01 minutes\n",
      "Epoch: 119/2499 | Avg Loss: 0.1391 | Episodes: 139 | Win count: 20 | Win rate: 0.219 | time: 20.21 minutes\n",
      "Epoch: 120/2499 | Avg Loss: 0.1237 | Episodes: 137 | Win count: 20 | Win rate: 0.219 | time: 20.41 minutes\n",
      "Epoch: 121/2499 | Avg Loss: 0.1160 | Episodes: 139 | Win count: 20 | Win rate: 0.219 | time: 20.60 minutes\n",
      "Epoch: 122/2499 | Avg Loss: 0.0092 | Episodes: 15 | Win count: 21 | Win rate: 0.250 | time: 20.62 minutes\n",
      "Epoch: 123/2499 | Avg Loss: 0.0040 | Episodes: 8 | Win count: 22 | Win rate: 0.250 | time: 20.63 minutes\n",
      "Epoch: 124/2499 | Avg Loss: 0.1318 | Episodes: 148 | Win count: 22 | Win rate: 0.219 | time: 20.84 minutes\n",
      "Epoch: 125/2499 | Avg Loss: 0.1401 | Episodes: 148 | Win count: 22 | Win rate: 0.219 | time: 21.04 minutes\n",
      "Epoch: 126/2499 | Avg Loss: 0.1008 | Episodes: 49 | Win count: 23 | Win rate: 0.250 | time: 21.11 minutes\n",
      "Epoch: 127/2499 | Avg Loss: 0.1610 | Episodes: 144 | Win count: 23 | Win rate: 0.219 | time: 21.31 minutes\n",
      "Epoch: 128/2499 | Avg Loss: 0.1335 | Episodes: 142 | Win count: 23 | Win rate: 0.219 | time: 21.50 minutes\n",
      "Epoch: 129/2499 | Avg Loss: 0.1386 | Episodes: 151 | Win count: 23 | Win rate: 0.219 | time: 21.99 minutes\n",
      "Epoch: 130/2499 | Avg Loss: 0.1905 | Episodes: 140 | Win count: 23 | Win rate: 0.219 | time: 22.43 minutes\n",
      "Epoch: 131/2499 | Avg Loss: 0.1482 | Episodes: 143 | Win count: 23 | Win rate: 0.188 | time: 22.87 minutes\n",
      "Epoch: 132/2499 | Avg Loss: 0.1661 | Episodes: 147 | Win count: 23 | Win rate: 0.188 | time: 23.31 minutes\n",
      "Epoch: 133/2499 | Avg Loss: 0.1642 | Episodes: 147 | Win count: 23 | Win rate: 0.188 | time: 23.75 minutes\n",
      "Epoch: 134/2499 | Avg Loss: 0.1332 | Episodes: 139 | Win count: 23 | Win rate: 0.188 | time: 24.17 minutes\n",
      "Epoch: 135/2499 | Avg Loss: 0.1320 | Episodes: 142 | Win count: 23 | Win rate: 0.188 | time: 24.66 minutes\n",
      "Epoch: 136/2499 | Avg Loss: 0.0004 | Episodes: 1 | Win count: 24 | Win rate: 0.219 | time: 24.66 minutes\n",
      "Epoch: 137/2499 | Avg Loss: 0.1153 | Episodes: 142 | Win count: 24 | Win rate: 0.219 | time: 25.11 minutes\n",
      "Epoch: 138/2499 | Avg Loss: 0.0929 | Episodes: 138 | Win count: 24 | Win rate: 0.219 | time: 25.54 minutes\n",
      "Epoch: 139/2499 | Avg Loss: 0.0885 | Episodes: 135 | Win count: 24 | Win rate: 0.188 | time: 25.98 minutes\n",
      "Epoch: 140/2499 | Avg Loss: 0.0904 | Episodes: 142 | Win count: 24 | Win rate: 0.156 | time: 26.42 minutes\n",
      "Epoch: 141/2499 | Avg Loss: 0.0812 | Episodes: 133 | Win count: 24 | Win rate: 0.156 | time: 26.83 minutes\n",
      "Epoch: 142/2499 | Avg Loss: 0.0437 | Episodes: 69 | Win count: 25 | Win rate: 0.188 | time: 27.03 minutes\n",
      "Epoch: 143/2499 | Avg Loss: 0.1671 | Episodes: 138 | Win count: 25 | Win rate: 0.188 | time: 27.47 minutes\n",
      "Epoch: 144/2499 | Avg Loss: 0.2380 | Episodes: 150 | Win count: 25 | Win rate: 0.156 | time: 27.92 minutes\n",
      "Epoch: 145/2499 | Avg Loss: 0.1933 | Episodes: 143 | Win count: 25 | Win rate: 0.156 | time: 28.39 minutes\n",
      "Epoch: 146/2499 | Avg Loss: 0.0186 | Episodes: 19 | Win count: 26 | Win rate: 0.188 | time: 28.44 minutes\n",
      "Epoch: 147/2499 | Avg Loss: 0.1607 | Episodes: 138 | Win count: 26 | Win rate: 0.188 | time: 28.87 minutes\n",
      "Epoch: 148/2499 | Avg Loss: 0.0368 | Episodes: 41 | Win count: 27 | Win rate: 0.219 | time: 29.00 minutes\n",
      "Epoch: 149/2499 | Avg Loss: 0.0153 | Episodes: 11 | Win count: 28 | Win rate: 0.250 | time: 29.03 minutes\n",
      "Epoch: 150/2499 | Avg Loss: 0.2720 | Episodes: 134 | Win count: 28 | Win rate: 0.250 | time: 29.44 minutes\n",
      "Epoch: 151/2499 | Avg Loss: 0.1199 | Episodes: 139 | Win count: 28 | Win rate: 0.250 | time: 29.84 minutes\n",
      "Epoch: 152/2499 | Avg Loss: 0.0994 | Episodes: 133 | Win count: 28 | Win rate: 0.250 | time: 30.28 minutes\n",
      "Epoch: 153/2499 | Avg Loss: 0.0974 | Episodes: 136 | Win count: 28 | Win rate: 0.250 | time: 30.70 minutes\n",
      "Epoch: 154/2499 | Avg Loss: 0.0162 | Episodes: 35 | Win count: 29 | Win rate: 0.250 | time: 30.81 minutes\n"
     ]
    },
    {
     "name": "stdout",
     "output_type": "stream",
     "text": [
      "Epoch: 155/2499 | Avg Loss: 0.1054 | Episodes: 146 | Win count: 29 | Win rate: 0.219 | time: 31.24 minutes\n",
      "Epoch: 156/2499 | Avg Loss: 0.1205 | Episodes: 143 | Win count: 29 | Win rate: 0.219 | time: 31.71 minutes\n",
      "Epoch: 157/2499 | Avg Loss: 0.0008 | Episodes: 1 | Win count: 30 | Win rate: 0.250 | time: 31.71 minutes\n",
      "Epoch: 158/2499 | Avg Loss: 0.0008 | Episodes: 1 | Win count: 31 | Win rate: 0.250 | time: 31.71 minutes\n",
      "Epoch: 159/2499 | Avg Loss: 0.1403 | Episodes: 145 | Win count: 31 | Win rate: 0.250 | time: 32.16 minutes\n",
      "Epoch: 160/2499 | Avg Loss: 0.0015 | Episodes: 1 | Win count: 32 | Win rate: 0.281 | time: 32.17 minutes\n",
      "Epoch: 161/2499 | Avg Loss: 0.1324 | Episodes: 139 | Win count: 32 | Win rate: 0.281 | time: 32.58 minutes\n",
      "Epoch: 162/2499 | Avg Loss: 0.1013 | Episodes: 139 | Win count: 32 | Win rate: 0.281 | time: 33.01 minutes\n",
      "Epoch: 163/2499 | Avg Loss: 0.1053 | Episodes: 139 | Win count: 32 | Win rate: 0.281 | time: 33.43 minutes\n",
      "Epoch: 164/2499 | Avg Loss: 0.0866 | Episodes: 142 | Win count: 32 | Win rate: 0.281 | time: 33.86 minutes\n",
      "Epoch: 165/2499 | Avg Loss: 0.0908 | Episodes: 133 | Win count: 32 | Win rate: 0.281 | time: 34.25 minutes\n",
      "Epoch: 166/2499 | Avg Loss: 0.0875 | Episodes: 139 | Win count: 32 | Win rate: 0.281 | time: 34.68 minutes\n",
      "Epoch: 167/2499 | Avg Loss: 0.0005 | Episodes: 1 | Win count: 33 | Win rate: 0.312 | time: 34.69 minutes\n",
      "Epoch: 168/2499 | Avg Loss: 0.0702 | Episodes: 136 | Win count: 33 | Win rate: 0.281 | time: 35.14 minutes\n",
      "Epoch: 169/2499 | Avg Loss: 0.0307 | Episodes: 63 | Win count: 34 | Win rate: 0.312 | time: 35.34 minutes\n",
      "Epoch: 170/2499 | Avg Loss: 0.0861 | Episodes: 141 | Win count: 34 | Win rate: 0.312 | time: 35.76 minutes\n",
      "Epoch: 171/2499 | Avg Loss: 0.1129 | Episodes: 140 | Win count: 34 | Win rate: 0.312 | time: 36.17 minutes\n",
      "Epoch: 172/2499 | Avg Loss: 0.1044 | Episodes: 136 | Win count: 34 | Win rate: 0.312 | time: 36.57 minutes\n",
      "Epoch: 173/2499 | Avg Loss: 0.1034 | Episodes: 134 | Win count: 34 | Win rate: 0.312 | time: 36.98 minutes\n",
      "Epoch: 174/2499 | Avg Loss: 0.0808 | Episodes: 140 | Win count: 34 | Win rate: 0.281 | time: 37.39 minutes\n",
      "Epoch: 175/2499 | Avg Loss: 0.0552 | Episodes: 134 | Win count: 34 | Win rate: 0.281 | time: 37.80 minutes\n",
      "Epoch: 176/2499 | Avg Loss: 0.0367 | Episodes: 133 | Win count: 34 | Win rate: 0.281 | time: 38.19 minutes\n",
      "Epoch: 177/2499 | Avg Loss: 0.0356 | Episodes: 136 | Win count: 34 | Win rate: 0.281 | time: 38.61 minutes\n",
      "Epoch: 178/2499 | Avg Loss: 0.0359 | Episodes: 132 | Win count: 34 | Win rate: 0.250 | time: 39.03 minutes\n",
      "Epoch: 179/2499 | Avg Loss: 0.0416 | Episodes: 134 | Win count: 34 | Win rate: 0.250 | time: 39.44 minutes\n",
      "Epoch: 180/2499 | Avg Loss: 0.0549 | Episodes: 134 | Win count: 34 | Win rate: 0.219 | time: 39.85 minutes\n",
      "Epoch: 181/2499 | Avg Loss: 0.0533 | Episodes: 138 | Win count: 34 | Win rate: 0.188 | time: 40.29 minutes\n",
      "Epoch: 182/2499 | Avg Loss: 0.0485 | Episodes: 134 | Win count: 34 | Win rate: 0.188 | time: 40.70 minutes\n",
      "Epoch: 183/2499 | Avg Loss: 0.0044 | Episodes: 11 | Win count: 35 | Win rate: 0.219 | time: 40.73 minutes\n",
      "Epoch: 184/2499 | Avg Loss: 0.1053 | Episodes: 141 | Win count: 35 | Win rate: 0.219 | time: 41.14 minutes\n",
      "Epoch: 185/2499 | Avg Loss: 0.0792 | Episodes: 140 | Win count: 35 | Win rate: 0.219 | time: 41.56 minutes\n",
      "Epoch: 186/2499 | Avg Loss: 0.0900 | Episodes: 140 | Win count: 35 | Win rate: 0.188 | time: 41.98 minutes\n",
      "Epoch: 187/2499 | Avg Loss: 0.1046 | Episodes: 142 | Win count: 35 | Win rate: 0.188 | time: 42.41 minutes\n",
      "Epoch: 188/2499 | Avg Loss: 0.1082 | Episodes: 140 | Win count: 35 | Win rate: 0.188 | time: 42.83 minutes\n",
      "Epoch: 189/2499 | Avg Loss: 0.0918 | Episodes: 139 | Win count: 35 | Win rate: 0.156 | time: 43.25 minutes\n",
      "Epoch: 190/2499 | Avg Loss: 0.0768 | Episodes: 137 | Win count: 35 | Win rate: 0.125 | time: 43.67 minutes\n"
     ]
    }
   ],
   "source": [
    "model = build_model(maze)\n",
    "qtrain(model, maze, epochs=1000, max_memory=8*maze.size, data_size=32)"
   ]
  },
  {
   "cell_type": "markdown",
   "metadata": {},
   "source": [
    "This cell will check to see if the model passes the completion check. Note: This could take several minutes."
   ]
  },
  {
   "cell_type": "code",
   "execution_count": null,
   "metadata": {},
   "outputs": [],
   "source": [
    "completion_check(model, qmaze)\n",
    "show(qmaze)"
   ]
  },
  {
   "cell_type": "markdown",
   "metadata": {},
   "source": [
    "This cell will test your model for one game. It will start the pirate at the top-left corner and run play_game. The agent should find a path from the starting position to the target (treasure). The treasure is located in the bottom-right corner."
   ]
  },
  {
   "cell_type": "code",
   "execution_count": null,
   "metadata": {},
   "outputs": [],
   "source": [
    "pirate_start = (0, 0)\n",
    "play_game(model, qmaze, pirate_start)\n",
    "show(qmaze)"
   ]
  },
  {
   "cell_type": "markdown",
   "metadata": {},
   "source": [
    "## Save and Submit Your Work\n",
    "After you have finished creating the code for your notebook, save your work. Make sure that your notebook contains your name in the filename (e.g. Doe_Jane_ProjectTwo.ipynb). This will help your instructor access and grade your work easily. Download a copy of your IPYNB file and submit it to Brightspace. Refer to the Jupyter Notebook in Apporto Tutorial if you need help with these tasks."
   ]
  },
  {
   "cell_type": "code",
   "execution_count": null,
   "metadata": {},
   "outputs": [],
   "source": []
  }
 ],
 "metadata": {
  "kernelspec": {
   "display_name": "Python 3",
   "language": "python",
   "name": "python3"
  },
  "language_info": {
   "codemirror_mode": {
    "name": "ipython",
    "version": 3
   },
   "file_extension": ".py",
   "mimetype": "text/x-python",
   "name": "python",
   "nbconvert_exporter": "python",
   "pygments_lexer": "ipython3",
   "version": "3.7.4"
  }
 },
 "nbformat": 4,
 "nbformat_minor": 2
}
